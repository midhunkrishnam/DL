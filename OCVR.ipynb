{
 "cells": [
  {
   "cell_type": "code",
   "execution_count": 1,
   "metadata": {},
   "outputs": [],
   "source": [
    "import cv2\n",
    "import pytesseract\n",
    "from pytesseract import Output"
   ]
  },
  {
   "cell_type": "code",
   "execution_count": 2,
   "metadata": {},
   "outputs": [],
   "source": [
    "img = cv2.imread(\"/home/user/Documents/DL_projects/data/ocrr.jpg\")\n",
    "cv2.imshow('image',img)\n",
    "cv2.waitKey()\n",
    "cv2.destroyAllWindows()"
   ]
  },
  {
   "cell_type": "code",
   "execution_count": 3,
   "metadata": {},
   "outputs": [],
   "source": [
    "text = pytesseract.image_to_string(img)\n"
   ]
  },
  {
   "cell_type": "code",
   "execution_count": 4,
   "metadata": {},
   "outputs": [
    {
     "name": "stdout",
     "output_type": "stream",
     "text": [
      "The quick brown fox\n",
      "jumped over the 5\n",
      "lazy dogs!\n",
      "\f\n"
     ]
    }
   ],
   "source": [
    "print(text)"
   ]
  },
  {
   "cell_type": "code",
   "execution_count": null,
   "metadata": {},
   "outputs": [],
   "source": [
    "#image to boxes"
   ]
  },
  {
   "cell_type": "code",
   "execution_count": 5,
   "metadata": {},
   "outputs": [],
   "source": [
    "box = pytesseract.image_to_boxes(img)"
   ]
  },
  {
   "cell_type": "code",
   "execution_count": 6,
   "metadata": {},
   "outputs": [
    {
     "name": "stdout",
     "output_type": "stream",
     "text": [
      "T 32 293 87 362 0\n",
      "h 96 293 135 362 0\n",
      "e 145 292 191 344 0\n",
      "q 225 274 268 344 0\n",
      "u 238 274 320 362 0\n",
      "i 282 292 344 362 0\n",
      "c 353 292 396 344 0\n",
      "k 403 293 444 362 0\n",
      "b 478 292 521 362 0\n",
      "r 532 293 558 344 0\n",
      "o 561 292 606 344 0\n",
      "w 610 293 677 343 0\n",
      "n 684 293 723 344 0\n",
      "f 759 293 788 363 0\n",
      "o 789 292 834 344 0\n",
      "x 839 293 884 343 0\n",
      "j 26 166 45 255 0\n",
      "u 59 185 98 236 0\n",
      "m 111 186 180 237 0\n",
      "p 135 166 233 255 0\n",
      "e 193 167 236 237 0\n",
      "d 243 185 339 255 0\n",
      "o 377 185 411 237 0\n",
      "v 377 185 422 237 0\n",
      "e 427 186 472 236 0\n",
      "r 476 185 559 237 0\n",
      "t 587 185 611 253 0\n",
      "h 619 186 658 255 0\n",
      "e 668 185 714 237 0\n",
      "5 749 185 794 254 0\n",
      "l 37 79 46 148 0\n",
      "a 55 78 100 130 0\n",
      "z 106 79 149 129 0\n",
      "y 152 59 197 129 0\n",
      "d 228 78 271 148 0\n",
      "o 282 78 327 130 0\n",
      "g 286 59 368 148 0\n",
      "s 334 59 377 130 0\n",
      "! 387 78 452 148 0\n",
      "\n"
     ]
    }
   ],
   "source": [
    "print(box)"
   ]
  },
  {
   "cell_type": "code",
   "execution_count": 7,
   "metadata": {},
   "outputs": [
    {
     "name": "stdout",
     "output_type": "stream",
     "text": [
      "['T', '32', '293', '87', '362', '0']\n",
      "['h', '96', '293', '135', '362', '0']\n",
      "['e', '145', '292', '191', '344', '0']\n",
      "['q', '225', '274', '268', '344', '0']\n",
      "['u', '238', '274', '320', '362', '0']\n",
      "['i', '282', '292', '344', '362', '0']\n",
      "['c', '353', '292', '396', '344', '0']\n",
      "['k', '403', '293', '444', '362', '0']\n",
      "['b', '478', '292', '521', '362', '0']\n",
      "['r', '532', '293', '558', '344', '0']\n",
      "['o', '561', '292', '606', '344', '0']\n",
      "['w', '610', '293', '677', '343', '0']\n",
      "['n', '684', '293', '723', '344', '0']\n",
      "['f', '759', '293', '788', '363', '0']\n",
      "['o', '789', '292', '834', '344', '0']\n",
      "['x', '839', '293', '884', '343', '0']\n",
      "['j', '26', '166', '45', '255', '0']\n",
      "['u', '59', '185', '98', '236', '0']\n",
      "['m', '111', '186', '180', '237', '0']\n",
      "['p', '135', '166', '233', '255', '0']\n",
      "['e', '193', '167', '236', '237', '0']\n",
      "['d', '243', '185', '339', '255', '0']\n",
      "['o', '377', '185', '411', '237', '0']\n",
      "['v', '377', '185', '422', '237', '0']\n",
      "['e', '427', '186', '472', '236', '0']\n",
      "['r', '476', '185', '559', '237', '0']\n",
      "['t', '587', '185', '611', '253', '0']\n",
      "['h', '619', '186', '658', '255', '0']\n",
      "['e', '668', '185', '714', '237', '0']\n",
      "['5', '749', '185', '794', '254', '0']\n",
      "['l', '37', '79', '46', '148', '0']\n",
      "['a', '55', '78', '100', '130', '0']\n",
      "['z', '106', '79', '149', '129', '0']\n",
      "['y', '152', '59', '197', '129', '0']\n",
      "['d', '228', '78', '271', '148', '0']\n",
      "['o', '282', '78', '327', '130', '0']\n",
      "['g', '286', '59', '368', '148', '0']\n",
      "['s', '334', '59', '377', '130', '0']\n",
      "['!', '387', '78', '452', '148', '0']\n"
     ]
    }
   ],
   "source": [
    "img = cv2.imread(\"/home/user/Documents/DL_projects/data/ocrr.jpg\")\n",
    "\n",
    "box = pytesseract.image_to_boxes(img)\n",
    "ht,wt,c = img.shape\n",
    "\n",
    "for  b in box.splitlines():\n",
    "    b = b.split(\" \")\n",
    "    print(b)\n",
    "\n",
    "    x,y,w,h = int(b[1]),int(b[2]),int(b[3]),int(b[4])\n",
    "    img = cv2.rectangle(img,pt1=(x,ht-y),pt2=(w,ht-h),color=(0,255,0),thickness=2)\n",
    "cv2.imshow('tesseract',img)\n",
    "cv2.waitKey()\n",
    "cv2.destroyAllWindows()\n",
    "\n"
   ]
  },
  {
   "attachments": {},
   "cell_type": "markdown",
   "metadata": {},
   "source": [
    "image to data"
   ]
  },
  {
   "cell_type": "code",
   "execution_count": 8,
   "metadata": {},
   "outputs": [],
   "source": [
    "img = cv2.imread(\"/home/user/Documents/DL_projects/data/ocrr.jpg\")"
   ]
  },
  {
   "cell_type": "code",
   "execution_count": 9,
   "metadata": {},
   "outputs": [],
   "source": [
    "data = pytesseract.image_to_data(img,output_type=Output.DICT)"
   ]
  },
  {
   "cell_type": "code",
   "execution_count": 10,
   "metadata": {},
   "outputs": [
    {
     "name": "stdout",
     "output_type": "stream",
     "text": [
      "{'level': [1, 2, 3, 4, 5, 5, 5, 5, 4, 5, 5, 5, 5, 4, 5, 5], 'page_num': [1, 1, 1, 1, 1, 1, 1, 1, 1, 1, 1, 1, 1, 1, 1, 1], 'block_num': [0, 1, 1, 1, 1, 1, 1, 1, 1, 1, 1, 1, 1, 1, 1, 1], 'par_num': [0, 0, 1, 1, 1, 1, 1, 1, 1, 1, 1, 1, 1, 1, 1, 1], 'line_num': [0, 0, 0, 1, 1, 1, 1, 1, 2, 2, 2, 2, 2, 3, 3, 3], 'word_num': [0, 0, 0, 0, 1, 2, 3, 4, 0, 1, 2, 3, 4, 0, 1, 2], 'left': [0, 26, 26, 32, 32, 225, 478, 759, 26, 26, 377, 587, 749, 37, 37, 228], 'top': [0, 18, 18, 18, 19, 19, 19, 18, 126, 126, 144, 126, 127, 233, 233, 233], 'width': [900, 858, 858, 852, 159, 219, 245, 125, 768, 313, 182, 127, 45, 415, 160, 224], 'height': [381, 304, 304, 89, 70, 88, 70, 71, 89, 89, 52, 70, 69, 89, 89, 89], 'conf': [-1, -1, -1, -1, 96, 96, 96, 96, -1, 96, 95, 96, 96, -1, 96, 95], 'text': ['', '', '', '', 'The', 'quick', 'brown', 'fox', '', 'jumped', 'over', 'the', '5', '', 'lazy', 'dogs!']}\n"
     ]
    }
   ],
   "source": [
    "print(data)"
   ]
  },
  {
   "cell_type": "code",
   "execution_count": 11,
   "metadata": {},
   "outputs": [
    {
     "name": "stdout",
     "output_type": "stream",
     "text": [
      "dict_keys(['level', 'page_num', 'block_num', 'par_num', 'line_num', 'word_num', 'left', 'top', 'width', 'height', 'conf', 'text'])\n"
     ]
    }
   ],
   "source": [
    "print(data.keys())"
   ]
  },
  {
   "cell_type": "code",
   "execution_count": 12,
   "metadata": {},
   "outputs": [
    {
     "data": {
      "text/plain": [
       "['',\n",
       " '',\n",
       " '',\n",
       " '',\n",
       " 'The',\n",
       " 'quick',\n",
       " 'brown',\n",
       " 'fox',\n",
       " '',\n",
       " 'jumped',\n",
       " 'over',\n",
       " 'the',\n",
       " '5',\n",
       " '',\n",
       " 'lazy',\n",
       " 'dogs!']"
      ]
     },
     "execution_count": 12,
     "metadata": {},
     "output_type": "execute_result"
    }
   ],
   "source": [
    "data['text']"
   ]
  },
  {
   "cell_type": "code",
   "execution_count": 13,
   "metadata": {},
   "outputs": [
    {
     "data": {
      "text/plain": [
       "[381, 304, 304, 89, 70, 88, 70, 71, 89, 89, 52, 70, 69, 89, 89, 89]"
      ]
     },
     "execution_count": 13,
     "metadata": {},
     "output_type": "execute_result"
    }
   ],
   "source": [
    "data['height']"
   ]
  },
  {
   "cell_type": "code",
   "execution_count": 14,
   "metadata": {},
   "outputs": [
    {
     "data": {
      "text/plain": [
       "[0, 18, 18, 18, 19, 19, 19, 18, 126, 126, 144, 126, 127, 233, 233, 233]"
      ]
     },
     "execution_count": 14,
     "metadata": {},
     "output_type": "execute_result"
    }
   ],
   "source": [
    "data['top']"
   ]
  },
  {
   "cell_type": "code",
   "execution_count": 15,
   "metadata": {},
   "outputs": [
    {
     "data": {
      "text/plain": [
       "[0, 26, 26, 32, 32, 225, 478, 759, 26, 26, 377, 587, 749, 37, 37, 228]"
      ]
     },
     "execution_count": 15,
     "metadata": {},
     "output_type": "execute_result"
    }
   ],
   "source": [
    "data['left']"
   ]
  },
  {
   "cell_type": "code",
   "execution_count": 16,
   "metadata": {},
   "outputs": [
    {
     "data": {
      "text/plain": [
       "[-1, -1, -1, -1, 96, 96, 96, 96, -1, 96, 95, 96, 96, -1, 96, 95]"
      ]
     },
     "execution_count": 16,
     "metadata": {},
     "output_type": "execute_result"
    }
   ],
   "source": [
    "data['conf']"
   ]
  },
  {
   "cell_type": "code",
   "execution_count": 17,
   "metadata": {},
   "outputs": [
    {
     "data": {
      "text/plain": [
       "[900, 858, 858, 852, 159, 219, 245, 125, 768, 313, 182, 127, 45, 415, 160, 224]"
      ]
     },
     "execution_count": 17,
     "metadata": {},
     "output_type": "execute_result"
    }
   ],
   "source": [
    "data['width']"
   ]
  },
  {
   "cell_type": "code",
   "execution_count": 18,
   "metadata": {},
   "outputs": [
    {
     "data": {
      "text/plain": [
       "16"
      ]
     },
     "execution_count": 18,
     "metadata": {},
     "output_type": "execute_result"
    }
   ],
   "source": [
    "n_boxes = len(data['text'])\n",
    "n_boxes"
   ]
  },
  {
   "cell_type": "code",
   "execution_count": 46,
   "metadata": {},
   "outputs": [],
   "source": [
    "for i in range(n_boxes):\n",
    "    if data['conf'] [i] >90:\n",
    "        x,y,w,h = data['left'][i],data['top'][i],data['width'][i],data['height'][i]\n",
    "        cv2.rectangle(img,(x,y),(x+w,y+h),(0,255,0),3)\n",
    "    cv2.imshow('tesseract',img)\n",
    "    cv2.waitKey()\n",
    "    cv2.destroyAllWindows()"
   ]
  }
 ],
 "metadata": {
  "kernelspec": {
   "display_name": "Python 3",
   "language": "python",
   "name": "python3"
  },
  "language_info": {
   "codemirror_mode": {
    "name": "ipython",
    "version": 3
   },
   "file_extension": ".py",
   "mimetype": "text/x-python",
   "name": "python",
   "nbconvert_exporter": "python",
   "pygments_lexer": "ipython3",
   "version": "3.8.10"
  },
  "orig_nbformat": 4
 },
 "nbformat": 4,
 "nbformat_minor": 2
}
