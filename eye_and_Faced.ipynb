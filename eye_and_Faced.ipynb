{
 "cells": [
  {
   "cell_type": "code",
   "execution_count": 1,
   "metadata": {},
   "outputs": [],
   "source": [
    "import matplotlib.pyplot as plt\n",
    "import cv2 \n",
    "\n",
    "video= cv2.VideoCapture(\"/home/user/Documents/DL_projects/data/mh.mp4\")\n",
    "\n",
    "while True:\n",
    "    x,frame = video.read()\n",
    "    vid_grey=cv2.cvtColor(frame,cv2.COLOR_BGR2GRAY)\n",
    "    #face cascade\n",
    "    face_cascade=cv2.CascadeClassifier(\"/home/user/Documents/DL_projects/data/haarcascade_frontalface_default.xml\")\n",
    "\n",
    "    #eye cascade\n",
    "    eye_cascade=cv2.CascadeClassifier(\"/home/user/Documents/DL_projects/data/haarcascade_eye.xml\")\n",
    "    \n",
    "    #detecting faces\n",
    "    faces = face_cascade.detectMultiScale(frame,scaleFactor=1.1,minNeighbors=4,minSize=(30,30))\n",
    "    #detecting eyes\n",
    "    eye = eye_cascade.detectMultiScale(frame,scaleFactor=1.1,minNeighbors=4,minSize=(30,30))\n",
    "\n",
    "    #looping overs detected face to draw boxes\n",
    "    for (x,y,w,h) in faces:\n",
    "      cv2.rectangle(frame,pt1=(x,y),pt2=(x+w,y+h),color=(255,0,0),thickness=3)\n",
    "\n",
    "    #looping overs detected face to draw boxes\n",
    "    for (x,y,w,h) in eye:\n",
    "     cv2.rectangle(frame,pt1=(x,y),pt2=(x+w,y+h),color=(0,0,255),thickness=3)\n",
    "     \n",
    "    cv2.imshow('video',frame)\n",
    "    if cv2.waitKey(1) & 0XFF ==27:\n",
    "      break\n",
    "video.release\n",
    "cv2.destroyAllWindows()"
   ]
  }
 ],
 "metadata": {
  "kernelspec": {
   "display_name": "Python 3",
   "language": "python",
   "name": "python3"
  },
  "language_info": {
   "codemirror_mode": {
    "name": "ipython",
    "version": 3
   },
   "file_extension": ".py",
   "mimetype": "text/x-python",
   "name": "python",
   "nbconvert_exporter": "python",
   "pygments_lexer": "ipython3",
   "version": "3.8.10"
  },
  "orig_nbformat": 4
 },
 "nbformat": 4,
 "nbformat_minor": 2
}
