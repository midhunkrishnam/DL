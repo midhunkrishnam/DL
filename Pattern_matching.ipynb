{
 "cells": [
  {
   "cell_type": "code",
   "execution_count": 1,
   "metadata": {},
   "outputs": [],
   "source": [
    "import cv2\n",
    "import pytesseract\n",
    "from pytesseract import Output\n",
    "import re"
   ]
  },
  {
   "cell_type": "code",
   "execution_count": 2,
   "metadata": {},
   "outputs": [],
   "source": [
    "img = cv2.imread(\"/home/user/Documents/DL_projects/data/invoice-sample.jpg\")\n",
    "cv2.imshow('image',img)\n",
    "cv2.waitKey()\n",
    "cv2.destroyAllWindows()"
   ]
  },
  {
   "cell_type": "code",
   "execution_count": 3,
   "metadata": {},
   "outputs": [
    {
     "data": {
      "text/plain": [
       "dict_keys(['level', 'page_num', 'block_num', 'par_num', 'line_num', 'word_num', 'left', 'top', 'width', 'height', 'conf', 'text'])"
      ]
     },
     "execution_count": 3,
     "metadata": {},
     "output_type": "execute_result"
    }
   ],
   "source": [
    "data = pytesseract.image_to_data(img,output_type=Output.DICT)\n",
    "data.keys()"
   ]
  },
  {
   "cell_type": "code",
   "execution_count": 4,
   "metadata": {},
   "outputs": [
    {
     "data": {
      "text/plain": [
       "234"
      ]
     },
     "execution_count": 4,
     "metadata": {},
     "output_type": "execute_result"
    }
   ],
   "source": [
    "len(data[\"text\"])"
   ]
  },
  {
   "cell_type": "code",
   "execution_count": 5,
   "metadata": {},
   "outputs": [
    {
     "data": {
      "text/plain": [
       "['',\n",
       " '',\n",
       " '',\n",
       " '',\n",
       " ',',\n",
       " 'Invoice',\n",
       " '',\n",
       " '',\n",
       " '',\n",
       " 'Your',\n",
       " 'Company',\n",
       " 'LLC',\n",
       " 'Address',\n",
       " '123,',\n",
       " 'State,',\n",
       " 'My',\n",
       " 'Country',\n",
       " 'P',\n",
       " '111-222-333,',\n",
       " 'F',\n",
       " '111-222-334',\n",
       " '',\n",
       " '',\n",
       " '',\n",
       " 'BILL',\n",
       " 'TO:',\n",
       " '',\n",
       " 'John',\n",
       " 'Doe',\n",
       " '',\n",
       " '',\n",
       " 'Alpha',\n",
       " 'Bravo',\n",
       " 'Road',\n",
       " '33',\n",
       " '',\n",
       " '',\n",
       " 'P:',\n",
       " '111-222-338,',\n",
       " 'F:',\n",
       " '111-222-334',\n",
       " '',\n",
       " 'client@example.net',\n",
       " '',\n",
       " '',\n",
       " '',\n",
       " 'SHIPPING',\n",
       " 'TO:',\n",
       " '',\n",
       " 'John',\n",
       " 'Doe',\n",
       " 'Office',\n",
       " '',\n",
       " '',\n",
       " 'Office',\n",
       " 'Road',\n",
       " '38,',\n",
       " '',\n",
       " '',\n",
       " 'P:',\n",
       " '111-383-222,',\n",
       " 'F:',\n",
       " '122-222-834',\n",
       " '',\n",
       " 'office@example.net',\n",
       " '',\n",
       " '',\n",
       " '',\n",
       " 'http://mrsinvoice.com',\n",
       " '',\n",
       " '',\n",
       " '',\n",
       " ' ',\n",
       " '',\n",
       " '',\n",
       " '',\n",
       " ' ',\n",
       " '',\n",
       " '',\n",
       " '',\n",
       " ' ',\n",
       " '',\n",
       " '',\n",
       " '',\n",
       " ' ',\n",
       " '',\n",
       " '',\n",
       " '',\n",
       " ' ',\n",
       " '',\n",
       " '',\n",
       " '',\n",
       " 'Invoice',\n",
       " '#',\n",
       " '00001',\n",
       " '',\n",
       " 'Invoice',\n",
       " 'Date',\n",
       " '12/12/2001',\n",
       " '',\n",
       " 'Name',\n",
       " 'of',\n",
       " 'Rep.',\n",
       " 'Bob',\n",
       " '',\n",
       " '',\n",
       " 'Contact',\n",
       " 'Phone',\n",
       " '101-102-103',\n",
       " '',\n",
       " '',\n",
       " '',\n",
       " ' ',\n",
       " '',\n",
       " '',\n",
       " '',\n",
       " 'Payment',\n",
       " 'Terms',\n",
       " '',\n",
       " '',\n",
       " '',\n",
       " ' ',\n",
       " '',\n",
       " '',\n",
       " '',\n",
       " ' ',\n",
       " '',\n",
       " '',\n",
       " '',\n",
       " 'Cash',\n",
       " 'on',\n",
       " 'Delivery',\n",
       " '',\n",
       " '',\n",
       " '',\n",
       " ' ',\n",
       " '',\n",
       " '',\n",
       " '',\n",
       " ' ',\n",
       " '',\n",
       " '',\n",
       " '',\n",
       " 'Amount',\n",
       " 'Due:',\n",
       " '$4,170',\n",
       " '',\n",
       " '',\n",
       " '',\n",
       " ' ',\n",
       " '',\n",
       " '',\n",
       " '',\n",
       " ' ',\n",
       " '',\n",
       " '',\n",
       " '',\n",
       " ' ',\n",
       " '',\n",
       " '',\n",
       " '',\n",
       " ' ',\n",
       " '',\n",
       " '',\n",
       " '',\n",
       " 'NO',\n",
       " 'PRODUCTS',\n",
       " '/',\n",
       " 'SERVICE',\n",
       " 'QUANTITY',\n",
       " '/',\n",
       " 'RATE',\n",
       " '/',\n",
       " 'UNIT',\n",
       " 'AMOUNT',\n",
       " '',\n",
       " 'HOURS:',\n",
       " 'PRICE',\n",
       " '',\n",
       " '',\n",
       " '1',\n",
       " 'aye',\n",
       " '2',\n",
       " '$20',\n",
       " '$40',\n",
       " '',\n",
       " '',\n",
       " '2',\n",
       " '|',\n",
       " 'Steering',\n",
       " 'Wheel',\n",
       " '5',\n",
       " '$10',\n",
       " '$50',\n",
       " '',\n",
       " '',\n",
       " '3',\n",
       " '|',\n",
       " 'Engine',\n",
       " 'oil',\n",
       " '10',\n",
       " '$15',\n",
       " '$150',\n",
       " '',\n",
       " '',\n",
       " '4',\n",
       " '|',\n",
       " 'Brake',\n",
       " 'Pad',\n",
       " '24',\n",
       " '$1000',\n",
       " '$2,400',\n",
       " '',\n",
       " '',\n",
       " 'Subtotal',\n",
       " '$275',\n",
       " '',\n",
       " '',\n",
       " 'Tax',\n",
       " '(10%)',\n",
       " '$27.5',\n",
       " '',\n",
       " '',\n",
       " 'Grand',\n",
       " 'Total',\n",
       " '$202.5',\n",
       " '',\n",
       " '',\n",
       " '',\n",
       " '‘THANK',\n",
       " 'YOU',\n",
       " 'FOR',\n",
       " 'YOUR',\n",
       " 'BUSINESS.']"
      ]
     },
     "execution_count": 5,
     "metadata": {},
     "output_type": "execute_result"
    }
   ],
   "source": [
    "data[\"text\"]"
   ]
  },
  {
   "cell_type": "code",
   "execution_count": 6,
   "metadata": {},
   "outputs": [
    {
     "data": {
      "text/plain": [
       "234"
      ]
     },
     "execution_count": 6,
     "metadata": {},
     "output_type": "execute_result"
    }
   ],
   "source": [
    "n_boxes = len(data[\"text\"])\n",
    "n_boxes"
   ]
  },
  {
   "cell_type": "code",
   "execution_count": 7,
   "metadata": {},
   "outputs": [],
   "source": [
    "for i in range(n_boxes):\n",
    "    if data['conf'][i]>90:\n",
    "        x,y,w,h = data['left'][i],data['top'][i],data['width'][i],data['height'][i]\n",
    "        img = cv2.rectangle(img,(x,y),(x+w,y+h),(0,255,0),thickness=3)\n",
    "cv2.imshow('bounding box',img)\n",
    "cv2.waitKey()\n",
    "cv2.destroyAllWindows()"
   ]
  },
  {
   "attachments": {},
   "cell_type": "markdown",
   "metadata": {},
   "source": [
    "#using regular expression cropping only data"
   ]
  },
  {
   "cell_type": "code",
   "execution_count": 8,
   "metadata": {},
   "outputs": [],
   "source": [
    "\n",
    "date_pattern = '^(0[1-9]|[12][0-9]|3[01])/(0[1-9]|1[012])/(19|20)\\d\\d$'\n"
   ]
  },
  {
   "cell_type": "code",
   "execution_count": 9,
   "metadata": {},
   "outputs": [],
   "source": [
    "img = cv2.imread(\"/home/user/Documents/DL_projects/data/invoice-sample.jpg\")\n",
    "\n",
    "for i in range(n_boxes):\n",
    "    if data['conf'][i]>60:\n",
    "        if re.match(date_pattern,data['text'][i]):  \n",
    "             x,y,w,h = data['left'][i],data['top'][i],data['width'][i],data['height'][i]\n",
    "             img = cv2.rectangle(img,(x,y),(x+w,y+h),(0,255,0),thickness=2)\n",
    "cv2.imshow('pattern_matchig',img)\n",
    "cv2.waitKey()\n",
    "cv2.destroyAllWindows()"
   ]
  },
  {
   "cell_type": "code",
   "execution_count": null,
   "metadata": {},
   "outputs": [],
   "source": []
  }
 ],
 "metadata": {
  "kernelspec": {
   "display_name": "Python 3",
   "language": "python",
   "name": "python3"
  },
  "language_info": {
   "codemirror_mode": {
    "name": "ipython",
    "version": 3
   },
   "file_extension": ".py",
   "mimetype": "text/x-python",
   "name": "python",
   "nbconvert_exporter": "python",
   "pygments_lexer": "ipython3",
   "version": "3.8.10"
  },
  "orig_nbformat": 4
 },
 "nbformat": 4,
 "nbformat_minor": 2
}
