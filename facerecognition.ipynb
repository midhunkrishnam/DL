{
 "cells": [
  {
   "cell_type": "code",
   "execution_count": 1,
   "metadata": {},
   "outputs": [],
   "source": [
    "import cv2\n",
    "import os\n",
    "import numpy as np"
   ]
  },
  {
   "cell_type": "code",
   "execution_count": 2,
   "metadata": {},
   "outputs": [],
   "source": [
    "def name_map(x): #name to numbers mapping\n",
    "    if x == 'sachin':\n",
    "        return 0\n",
    "    if x == 'obama':\n",
    "        return 1\n",
    "    if x == 'messi':\n",
    "        return 2"
   ]
  },
  {
   "cell_type": "code",
   "execution_count": 3,
   "metadata": {},
   "outputs": [],
   "source": [
    "#mapping numbets to names\n",
    "\n",
    "def get_name(x):\n",
    "    if x == 0:\n",
    "        return 'sachin'\n",
    "    if x == 1:\n",
    "        return 'obama'\n",
    "    if x == 2:\n",
    "        return 'messi'"
   ]
  },
  {
   "cell_type": "code",
   "execution_count": 5,
   "metadata": {},
   "outputs": [],
   "source": [
    "def detect_face(img):\n",
    "    gray=cv2.cvtColor(img,cv2.COLOR_BGR2GRAY)\n",
    "    face_cascade=cv2.CascadeClassifier(\"/home/user/Documents/DL_projects/data/face_recogtion/haarcascade_frontalface_default.xml\")\n",
    "    faces = face_cascade.detectMultiScale(gray)\n",
    "    if (len(faces)==0):\n",
    "        return None,None\n",
    "    (x,y,w,h) =faces[0] #face coordinates\n",
    "    return gray[y:y+w,x:x+h],faces[0]\n",
    "\n"
   ]
  },
  {
   "cell_type": "code",
   "execution_count": 6,
   "metadata": {},
   "outputs": [
    {
     "data": {
      "text/plain": [
       "['obama', 'sachin', 'messi']"
      ]
     },
     "execution_count": 6,
     "metadata": {},
     "output_type": "execute_result"
    }
   ],
   "source": [
    "dirs = os.listdir('/home/user/Documents/DL_projects/data/face_recogtion/DB')\n",
    "dirs"
   ]
  },
  {
   "cell_type": "code",
   "execution_count": 7,
   "metadata": {},
   "outputs": [
    {
     "name": "stdout",
     "output_type": "stream",
     "text": [
      "/home/user/Documents/DL_projects/data/face_recogtion/DB/obama\n",
      "/home/user/Documents/DL_projects/data/face_recogtion/DB/sachin\n",
      "/home/user/Documents/DL_projects/data/face_recogtion/DB/messi\n"
     ]
    }
   ],
   "source": [
    "for dir_name in dirs:\n",
    "    subject_dirs_path = '/home/user/Documents/DL_projects/data/face_recogtion/DB' +'/'+dir_name\n",
    "    print(subject_dirs_path)"
   ]
  },
  {
   "cell_type": "code",
   "execution_count": 9,
   "metadata": {},
   "outputs": [
    {
     "name": "stdout",
     "output_type": "stream",
     "text": [
      "['05.jpg', '07.jpg', '09.jpg', '04.jpg', '02.jpg', '01.jpg', '03.jpg', '10.jpg', '08.jpg', '06.jpg']\n"
     ]
    }
   ],
   "source": [
    "subject_image_name = os.listdir(subject_dirs_path)\n",
    "print(subject_image_name)"
   ]
  },
  {
   "cell_type": "code",
   "execution_count": 10,
   "metadata": {},
   "outputs": [
    {
     "name": "stdout",
     "output_type": "stream",
     "text": [
      "/home/user/Documents/DL_projects/data/face_recogtion/DB/messi/05.jpg\n",
      "/home/user/Documents/DL_projects/data/face_recogtion/DB/messi/07.jpg\n",
      "/home/user/Documents/DL_projects/data/face_recogtion/DB/messi/09.jpg\n",
      "/home/user/Documents/DL_projects/data/face_recogtion/DB/messi/04.jpg\n",
      "/home/user/Documents/DL_projects/data/face_recogtion/DB/messi/02.jpg\n",
      "/home/user/Documents/DL_projects/data/face_recogtion/DB/messi/01.jpg\n",
      "/home/user/Documents/DL_projects/data/face_recogtion/DB/messi/03.jpg\n",
      "/home/user/Documents/DL_projects/data/face_recogtion/DB/messi/10.jpg\n",
      "/home/user/Documents/DL_projects/data/face_recogtion/DB/messi/08.jpg\n",
      "/home/user/Documents/DL_projects/data/face_recogtion/DB/messi/06.jpg\n"
     ]
    }
   ],
   "source": [
    "for img_name in subject_image_name:\n",
    "    img_path = subject_dirs_path + '/' + img_name\n",
    "    print(img_path)"
   ]
  },
  {
   "cell_type": "code",
   "execution_count": 11,
   "metadata": {},
   "outputs": [
    {
     "name": "stdout",
     "output_type": "stream",
     "text": [
      "/home/user/Documents/DL_projects/data/face_recogtion/DB//obama/05.jpg\n",
      "/home/user/Documents/DL_projects/data/face_recogtion/DB//obama/07.jpg\n",
      "/home/user/Documents/DL_projects/data/face_recogtion/DB//obama/09.jpg\n",
      "/home/user/Documents/DL_projects/data/face_recogtion/DB//obama/04.jpg\n",
      "/home/user/Documents/DL_projects/data/face_recogtion/DB//obama/02.jpg\n",
      "/home/user/Documents/DL_projects/data/face_recogtion/DB//obama/01.jpg\n",
      "/home/user/Documents/DL_projects/data/face_recogtion/DB//obama/03.jpg\n",
      "/home/user/Documents/DL_projects/data/face_recogtion/DB//obama/10.jpg\n",
      "/home/user/Documents/DL_projects/data/face_recogtion/DB//obama/08.jpg\n",
      "/home/user/Documents/DL_projects/data/face_recogtion/DB//obama/06.jpg\n",
      "/home/user/Documents/DL_projects/data/face_recogtion/DB//sachin/05.jpg\n",
      "/home/user/Documents/DL_projects/data/face_recogtion/DB//sachin/07.jpg\n",
      "/home/user/Documents/DL_projects/data/face_recogtion/DB//sachin/09.jpg\n",
      "/home/user/Documents/DL_projects/data/face_recogtion/DB//sachin/04.jpg\n",
      "/home/user/Documents/DL_projects/data/face_recogtion/DB//sachin/02.jpg\n",
      "/home/user/Documents/DL_projects/data/face_recogtion/DB//sachin/01.jpg\n",
      "/home/user/Documents/DL_projects/data/face_recogtion/DB//sachin/03.jpg\n",
      "/home/user/Documents/DL_projects/data/face_recogtion/DB//sachin/10.jpg\n",
      "/home/user/Documents/DL_projects/data/face_recogtion/DB//sachin/08.jpg\n",
      "/home/user/Documents/DL_projects/data/face_recogtion/DB//sachin/06.jpg\n",
      "/home/user/Documents/DL_projects/data/face_recogtion/DB//messi/05.jpg\n",
      "/home/user/Documents/DL_projects/data/face_recogtion/DB//messi/07.jpg\n",
      "/home/user/Documents/DL_projects/data/face_recogtion/DB//messi/09.jpg\n",
      "/home/user/Documents/DL_projects/data/face_recogtion/DB//messi/04.jpg\n",
      "/home/user/Documents/DL_projects/data/face_recogtion/DB//messi/02.jpg\n",
      "/home/user/Documents/DL_projects/data/face_recogtion/DB//messi/01.jpg\n",
      "/home/user/Documents/DL_projects/data/face_recogtion/DB//messi/03.jpg\n",
      "/home/user/Documents/DL_projects/data/face_recogtion/DB//messi/10.jpg\n",
      "/home/user/Documents/DL_projects/data/face_recogtion/DB//messi/08.jpg\n",
      "/home/user/Documents/DL_projects/data/face_recogtion/DB//messi/06.jpg\n"
     ]
    }
   ],
   "source": [
    "for dir_name in dirs:\n",
    "    subject_dirs_path = '/home/user/Documents/DL_projects/data/face_recogtion/DB' +'/'+ '/' +dir_name\n",
    "    subject_image_name = os.listdir(subject_dirs_path)\n",
    "    for img_name in subject_image_name:\n",
    "        img_path= subject_dirs_path + '/' + img_name\n",
    "        print(img_path)"
   ]
  },
  {
   "cell_type": "code",
   "execution_count": 12,
   "metadata": {},
   "outputs": [],
   "source": [
    "def prepare_training_data(data_folder_path):\n",
    "    dirs = os.listdir(data_folder_path)\n",
    "    faces = []\n",
    "    labels = []\n",
    "\n",
    "\n",
    "    for dir_name in dirs:\n",
    "\n",
    "        label = dir_name\n",
    "\n",
    "        subject_dirs_path = data_folder_path + \"/\" + dir_name\n",
    "        subject_image_name = os.listdir(subject_dirs_path)\n",
    "\n",
    "\n",
    "        for img_name in subject_image_name:\n",
    "            img_path = subject_dirs_path + '/' + img_name\n",
    "            \n",
    "            image = cv2.imread(img_path)\n",
    "\n",
    "            cv2.imshow(\"training_image\",image)\n",
    "            cv2.waitKey(1000)\n",
    "\n",
    "            #face detection\n",
    "\n",
    "            face,rect1 = detect_face(image)\n",
    "\n",
    "            if face is not None:\n",
    "                faces.append(face)\n",
    "                labels.append(name_map(label))\n",
    "\n",
    "\n",
    "                print(labels)\n",
    "    cv2.destroyAllWindows()\n",
    "    cv2.waitKey(1)\n",
    "    return faces,labels \n",
    "\n",
    "\n",
    "\n"
   ]
  },
  {
   "cell_type": "code",
   "execution_count": 13,
   "metadata": {},
   "outputs": [
    {
     "name": "stdout",
     "output_type": "stream",
     "text": [
      "preparing data.......\n",
      "[1]\n",
      "[1, 1]\n",
      "[1, 1, 1]\n",
      "[1, 1, 1, 1]\n",
      "[1, 1, 1, 1, 1]\n",
      "[1, 1, 1, 1, 1, 1]\n",
      "[1, 1, 1, 1, 1, 1, 1]\n",
      "[1, 1, 1, 1, 1, 1, 1, 1]\n",
      "[1, 1, 1, 1, 1, 1, 1, 1, 1]\n",
      "[1, 1, 1, 1, 1, 1, 1, 1, 1, 1]\n",
      "[1, 1, 1, 1, 1, 1, 1, 1, 1, 1, 0]\n",
      "[1, 1, 1, 1, 1, 1, 1, 1, 1, 1, 0, 0]\n",
      "[1, 1, 1, 1, 1, 1, 1, 1, 1, 1, 0, 0, 0]\n",
      "[1, 1, 1, 1, 1, 1, 1, 1, 1, 1, 0, 0, 0, 0]\n",
      "[1, 1, 1, 1, 1, 1, 1, 1, 1, 1, 0, 0, 0, 0, 0]\n",
      "[1, 1, 1, 1, 1, 1, 1, 1, 1, 1, 0, 0, 0, 0, 0, 0]\n",
      "[1, 1, 1, 1, 1, 1, 1, 1, 1, 1, 0, 0, 0, 0, 0, 0, 0]\n",
      "[1, 1, 1, 1, 1, 1, 1, 1, 1, 1, 0, 0, 0, 0, 0, 0, 0, 0]\n",
      "[1, 1, 1, 1, 1, 1, 1, 1, 1, 1, 0, 0, 0, 0, 0, 0, 0, 0, 0]\n",
      "[1, 1, 1, 1, 1, 1, 1, 1, 1, 1, 0, 0, 0, 0, 0, 0, 0, 0, 0, 2]\n",
      "[1, 1, 1, 1, 1, 1, 1, 1, 1, 1, 0, 0, 0, 0, 0, 0, 0, 0, 0, 2, 2]\n",
      "[1, 1, 1, 1, 1, 1, 1, 1, 1, 1, 0, 0, 0, 0, 0, 0, 0, 0, 0, 2, 2, 2]\n",
      "[1, 1, 1, 1, 1, 1, 1, 1, 1, 1, 0, 0, 0, 0, 0, 0, 0, 0, 0, 2, 2, 2, 2]\n",
      "[1, 1, 1, 1, 1, 1, 1, 1, 1, 1, 0, 0, 0, 0, 0, 0, 0, 0, 0, 2, 2, 2, 2, 2]\n",
      "[1, 1, 1, 1, 1, 1, 1, 1, 1, 1, 0, 0, 0, 0, 0, 0, 0, 0, 0, 2, 2, 2, 2, 2, 2]\n",
      "[1, 1, 1, 1, 1, 1, 1, 1, 1, 1, 0, 0, 0, 0, 0, 0, 0, 0, 0, 2, 2, 2, 2, 2, 2, 2]\n",
      "[1, 1, 1, 1, 1, 1, 1, 1, 1, 1, 0, 0, 0, 0, 0, 0, 0, 0, 0, 2, 2, 2, 2, 2, 2, 2, 2]\n",
      "[1, 1, 1, 1, 1, 1, 1, 1, 1, 1, 0, 0, 0, 0, 0, 0, 0, 0, 0, 2, 2, 2, 2, 2, 2, 2, 2, 2]\n",
      "[1, 1, 1, 1, 1, 1, 1, 1, 1, 1, 0, 0, 0, 0, 0, 0, 0, 0, 0, 2, 2, 2, 2, 2, 2, 2, 2, 2, 2]\n",
      "data prepared\n"
     ]
    }
   ],
   "source": [
    "print(\"preparing data.......\")\n",
    "faces,labels = prepare_training_data('/home/user/Documents/DL_projects/data/face_recogtion/DB')\n",
    "print(\"data prepared\")\n"
   ]
  },
  {
   "cell_type": "code",
   "execution_count": 14,
   "metadata": {},
   "outputs": [
    {
     "name": "stdout",
     "output_type": "stream",
     "text": [
      "total no of faces\n"
     ]
    },
    {
     "data": {
      "text/plain": [
       "(None, 29)"
      ]
     },
     "execution_count": 14,
     "metadata": {},
     "output_type": "execute_result"
    }
   ],
   "source": [
    "print(\"total no of faces\"),len(faces)"
   ]
  },
  {
   "cell_type": "code",
   "execution_count": 15,
   "metadata": {},
   "outputs": [
    {
     "name": "stdout",
     "output_type": "stream",
     "text": [
      "total labels detected 29\n"
     ]
    }
   ],
   "source": [
    "print(\"total labels detected\",len(labels))"
   ]
  },
  {
   "cell_type": "code",
   "execution_count": 17,
   "metadata": {},
   "outputs": [],
   "source": [
    "face_recognizer = cv2.face.LBPHFaceRecognizer_create()"
   ]
  },
  {
   "cell_type": "code",
   "execution_count": 18,
   "metadata": {},
   "outputs": [],
   "source": [
    "face_recognizer.train(faces,np.array(labels))"
   ]
  },
  {
   "cell_type": "code",
   "execution_count": 19,
   "metadata": {},
   "outputs": [],
   "source": [
    "def draw_rectangle(img,rect):\n",
    "    (x,y,w,h)= rect\n",
    "    cv2.rectangle(img,(x,y),(x+w,y+h),color=(0,255,0),thickness=2)\n",
    "    \n"
   ]
  },
  {
   "cell_type": "code",
   "execution_count": 20,
   "metadata": {},
   "outputs": [],
   "source": [
    "def draw_text(img,text,x,y):\n",
    "    cv2.putText(img,text,(x,y),cv2.FONT_HERSHEY_COMPLEX,1,(0.255,0),2)"
   ]
  },
  {
   "cell_type": "code",
   "execution_count": 21,
   "metadata": {},
   "outputs": [],
   "source": [
    "def predict(test_img):\n",
    "    img = test_img.copy()\n",
    "    #detect face\n",
    "    face,rect = detect_face(img)\n",
    "\n",
    "    #predict\n",
    "    label = face_recognizer.predict(face) # 0 , 1 ,2\n",
    "\n",
    "    #find name\n",
    "    label_text = get_name(label[0])\n",
    "\n",
    "    #adding rect and text\n",
    "\n",
    "    draw_rectangle(img,rect)\n",
    "\n",
    "    draw_text(img,label_text,remmct[0],rect[1])\n",
    "\n",
    "    return img\n",
    "\n",
    "\n"
   ]
  },
  {
   "cell_type": "code",
   "execution_count": 22,
   "metadata": {},
   "outputs": [],
   "source": [
    "test_img1 = cv2.imread(\"/home/user/Documents/DL_projects/data/messi.jpg\")\n"
   ]
  },
  {
   "cell_type": "code",
   "execution_count": 23,
   "metadata": {},
   "outputs": [],
   "source": [
    "predicted = predict(test_img1)\n",
    "cv2.imshow(\"predicted image\",predicted)\n",
    "cv2.waitKey()\n",
    "cv2.destroyAllWindows()"
   ]
  }
 ],
 "metadata": {
  "kernelspec": {
   "display_name": "Python 3",
   "language": "python",
   "name": "python3"
  },
  "language_info": {
   "codemirror_mode": {
    "name": "ipython",
    "version": 3
   },
   "file_extension": ".py",
   "mimetype": "text/x-python",
   "name": "python",
   "nbconvert_exporter": "python",
   "pygments_lexer": "ipython3",
   "version": "3.8.10"
  },
  "orig_nbformat": 4
 },
 "nbformat": 4,
 "nbformat_minor": 2
}
